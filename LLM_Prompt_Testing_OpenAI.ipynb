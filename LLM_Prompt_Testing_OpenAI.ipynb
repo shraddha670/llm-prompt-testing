{
 "cells": [
  {
   "cell_type": "markdown",
   "id": "b7f5298a",
   "metadata": {},
   "source": [
    "# 🤖 LLM Prompt Testing with OpenAI GPT-4\n",
    "This notebook contains 5 sample prompts tested with OpenAI's GPT-4 API."
   ]
  },
  {
   "cell_type": "code",
   "execution_count": null,
   "id": "bea5c5a2",
   "metadata": {},
   "outputs": [],
   "source": [
    "# Install the OpenAI package (if not installed)\n",
    "!pip install openai\n",
    "\n",
    "import openai\n",
    "\n",
    "# Set your API key (replace with your actual key)\n",
    "openai.api_key = 'your-api-key-here'"
   ]
  },
  {
   "cell_type": "markdown",
   "id": "f45ceef3",
   "metadata": {},
   "source": [
    "### Prompt 1: Blog Intro"
   ]
  },
  {
   "cell_type": "code",
   "execution_count": null,
   "id": "05f8931c",
   "metadata": {},
   "outputs": [],
   "source": [
    "prompt = \"Write a blog intro about the benefits of AI in education.\"\n",
    "\n",
    "response = openai.ChatCompletion.create(\n",
    "    model=\"gpt-4\",\n",
    "    messages=[{\"role\": \"user\", \"content\": prompt}],\n",
    "    temperature=0.7,\n",
    "    max_tokens=200\n",
    ")\n",
    "\n",
    "print(response['choices'][0]['message']['content'])"
   ]
  },
  {
   "cell_type": "markdown",
   "id": "58a48f0d",
   "metadata": {},
   "source": [
    "### Prompt 2: Customer Support Query"
   ]
  },
  {
   "cell_type": "code",
   "execution_count": null,
   "id": "765f84b1",
   "metadata": {},
   "outputs": [],
   "source": [
    "prompt = \"Act like a polite customer service agent. The customer says: 'My refund hasn't arrived yet.'\"\n",
    "\n",
    "response = openai.ChatCompletion.create(\n",
    "    model=\"gpt-4\",\n",
    "    messages=[{\"role\": \"user\", \"content\": prompt}],\n",
    "    temperature=0.5,\n",
    "    max_tokens=150\n",
    ")\n",
    "\n",
    "print(response['choices'][0]['message']['content'])"
   ]
  },
  {
   "cell_type": "markdown",
   "id": "8e424dce",
   "metadata": {},
   "source": [
    "### Prompt 3: Explain NLP to a child"
   ]
  },
  {
   "cell_type": "code",
   "execution_count": null,
   "id": "5765051c",
   "metadata": {},
   "outputs": [],
   "source": [
    "prompt = \"Explain Natural Language Processing to a 10-year-old.\"\n",
    "\n",
    "response = openai.ChatCompletion.create(\n",
    "    model=\"gpt-4\",\n",
    "    messages=[{\"role\": \"user\", \"content\": prompt}],\n",
    "    temperature=0.7,\n",
    "    max_tokens=150\n",
    ")\n",
    "\n",
    "print(response['choices'][0]['message']['content'])"
   ]
  },
  {
   "cell_type": "markdown",
   "id": "fd9c8990",
   "metadata": {},
   "source": [
    "### Prompt 4: Rewrite in a Friendly Tone"
   ]
  },
  {
   "cell_type": "code",
   "execution_count": null,
   "id": "b9ae1f63",
   "metadata": {},
   "outputs": [],
   "source": [
    "prompt = \"Rewrite this in a friendly tone: 'We are not able to process your request at this time.'\"\n",
    "\n",
    "response = openai.ChatCompletion.create(\n",
    "    model=\"gpt-4\",\n",
    "    messages=[{\"role\": \"user\", \"content\": prompt}],\n",
    "    temperature=0.6,\n",
    "    max_tokens=60\n",
    ")\n",
    "\n",
    "print(response['choices'][0]['message']['content'])"
   ]
  },
  {
   "cell_type": "markdown",
   "id": "1c3b1b3f",
   "metadata": {},
   "source": [
    "### Prompt 5: Short Story Starter"
   ]
  },
  {
   "cell_type": "code",
   "execution_count": null,
   "id": "5c645e00",
   "metadata": {},
   "outputs": [],
   "source": [
    "prompt = \"Start a short story about a robot who learns to paint.\"\n",
    "\n",
    "response = openai.ChatCompletion.create(\n",
    "    model=\"gpt-4\",\n",
    "    messages=[{\"role\": \"user\", \"content\": prompt}],\n",
    "    temperature=0.9,\n",
    "    max_tokens=200\n",
    ")\n",
    "\n",
    "print(response['choices'][0]['message']['content'])"
   ]
  }
 ],
 "metadata": {},
 "nbformat": 4,
 "nbformat_minor": 5
}